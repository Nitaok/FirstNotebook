{
 "cells": [
  {
   "cell_type": "markdown",
   "id": "06152394-85f7-41c7-ae34-8c13fe0b6be4",
   "metadata": {},
   "source": [
    "# El nombre 2-title.png"
   ]
  },
  {
   "cell_type": "code",
   "execution_count": null,
   "id": "c887a6c9-842f-43ad-93c8-71de8a0213cc",
   "metadata": {},
   "outputs": [],
   "source": [
    "# In this notebook, Data Science Tools and Ecosystem are summarized"
   ]
  },
  {
   "cell_type": "markdown",
   "id": "fa7dabbd-bce2-46c5-b379-63591357caf5",
   "metadata": {},
   "source": [
    "## El nombre 3-intro.png"
   ]
  },
  {
   "cell_type": "markdown",
   "id": "7a54cbec-afaa-49ec-9170-d00a701905d9",
   "metadata": {
    "tags": []
   },
   "source": [
    "### El nombre 10-objectives.png"
   ]
  },
  {
   "cell_type": "markdown",
   "id": "a41a7f74-d29c-4ae6-be76-530cee2349a5",
   "metadata": {},
   "source": [
    "### **LOs objetivos de este notebook son los siguientes:**"
   ]
  },
  {
   "cell_type": "markdown",
   "id": "c24a0d1e-ab2c-4e78-bf08-89b909b6ba0c",
   "metadata": {
    "tags": []
   },
   "source": [
    "- Aprender notebook\n",
    "- Aprender a crear listas ordenadas\n",
    "- Aprender a escribir en negrita\n",
    "- Apender a crear encabezados"
   ]
  },
  {
   "cell_type": "code",
   "execution_count": null,
   "id": "1e3a9b6b-080c-40a8-af1e-82589656014d",
   "metadata": {},
   "outputs": [],
   "source": [
    "# Some of the popular languages that Data Scientists use are:"
   ]
  },
  {
   "cell_type": "markdown",
   "id": "d8fb4b5a-7145-4ccf-a276-c841f7ebfc65",
   "metadata": {},
   "source": [
    "### El nombre 4-dslanguages.png"
   ]
  },
  {
   "cell_type": "markdown",
   "id": "223f9a5b-6137-4fd9-810f-8170e91b4d51",
   "metadata": {},
   "source": [
    "1. Phyton\n",
    "2. R\n",
    "3. C\n",
    "4. Java\n",
    "5. Scala"
   ]
  },
  {
   "cell_type": "code",
   "execution_count": null,
   "id": "5110ee08-d7be-4117-aa3e-2cb43ae60b3d",
   "metadata": {},
   "outputs": [],
   "source": [
    "# Some of the commonly used libraries used by Data Scientists include:"
   ]
  },
  {
   "cell_type": "markdown",
   "id": "44fc8c01-bad6-46c8-b443-d4447ee5747f",
   "metadata": {},
   "source": [
    "#### El nombre 5-dslibraries.png"
   ]
  },
  {
   "cell_type": "markdown",
   "id": "46ec3330-58b7-42f4-babb-830c098f7de2",
   "metadata": {},
   "source": [
    "- Numpy\n",
    "- Pandas\n",
    "- Matplotlib\n",
    "- Altair\n",
    "- Ploty"
   ]
  },
  {
   "cell_type": "markdown",
   "id": "145fc22b-d193-4b8a-8e76-b00719c3f9a5",
   "metadata": {},
   "source": [
    "##### El nombre 6-dstools.png"
   ]
  },
  {
   "cell_type": "markdown",
   "id": "d32f8df2-64cb-49c9-9820-98e452f4f160",
   "metadata": {},
   "source": [
    "| Herramientas ciencia de datos |\n",
    "| ----------------------------- |\n",
    "| MySQL |\n",
    "| CouchDB |\n",
    "| Hadoop |"
   ]
  },
  {
   "cell_type": "markdown",
   "id": "ab39372c-9f15-422d-94dd-af372ff4520d",
   "metadata": {},
   "source": [
    " ###### El nombre 7-introarithmetic.png"
   ]
  },
  {
   "cell_type": "markdown",
   "id": "f159867d-58ef-42b9-b6b4-da00cdd099ed",
   "metadata": {},
   "source": [
    "### Below are a few examples of evaluating arithmetic expressions in Python\n",
    "983 + 568 + 678\n",
    "123 * 5\n",
    "980 / 2"
   ]
  },
  {
   "cell_type": "markdown",
   "id": "f8ea19ff-7465-4192-a798-f3fdc3c794b4",
   "metadata": {},
   "source": [
    "###### El nombre 8-multiplyandaddintegers.png"
   ]
  },
  {
   "cell_type": "code",
   "execution_count": 6,
   "id": "85b0f2cf-dbba-4434-893e-0990eeb56e2c",
   "metadata": {
    "tags": []
   },
   "outputs": [
    {
     "data": {
      "text/plain": [
       "17"
      ]
     },
     "execution_count": 6,
     "metadata": {},
     "output_type": "execute_result"
    }
   ],
   "source": [
    "#  Esta es una expresión aritmética simple para luego agregar números enteros\n",
    "(3*4) + 5"
   ]
  },
  {
   "cell_type": "markdown",
   "id": "a6c2db25-05c2-4643-91e5-5b970eb44a28",
   "metadata": {},
   "source": [
    "###### el nombre 9-hourstominutes.png"
   ]
  },
  {
   "cell_type": "code",
   "execution_count": 1,
   "id": "27ba1019-83f2-4800-b20a-4b20c119569a",
   "metadata": {
    "tags": []
   },
   "outputs": [
    {
     "data": {
      "text/plain": [
       "3.3333333333333335"
      ]
     },
     "execution_count": 1,
     "metadata": {},
     "output_type": "execute_result"
    }
   ],
   "source": [
    "# Esta operacion converitra 200 minutos en horas\n",
    "200/60"
   ]
  },
  {
   "cell_type": "markdown",
   "id": "698f93b2-ca0a-415b-b27e-50c75d181518",
   "metadata": {},
   "source": [
    "## Author: Susana Martín Eguibar"
   ]
  },
  {
   "cell_type": "code",
   "execution_count": null,
   "id": "b2f70497-732f-4735-bc05-72ef06fb2f2e",
   "metadata": {},
   "outputs": [],
   "source": []
  }
 ],
 "metadata": {
  "kernelspec": {
   "display_name": "Python",
   "language": "python",
   "name": "conda-env-python-py"
  },
  "language_info": {
   "codemirror_mode": {
    "name": "ipython",
    "version": 3
   },
   "file_extension": ".py",
   "mimetype": "text/x-python",
   "name": "python",
   "nbconvert_exporter": "python",
   "pygments_lexer": "ipython3",
   "version": "3.7.12"
  }
 },
 "nbformat": 4,
 "nbformat_minor": 5
}
